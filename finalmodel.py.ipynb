{
 "cells": [
  {
   "cell_type": "code",
   "execution_count": 5,
   "id": "cf7bd94b-3578-450b-957a-9c6b163a62b7",
   "metadata": {},
   "outputs": [],
   "source": [
    "import pandas as pd\n",
    "import numpy as np\n",
    "from sklearn.model_selection import train_test_split\n",
    "from sklearn.preprocessing import MinMaxScaler, StandardScaler, LabelEncoder\n",
    "from sklearn.ensemble import RandomForestClassifier\n",
    "from sklearn.metrics import accuracy_score"
   ]
  },
  {
   "cell_type": "code",
   "execution_count": 7,
   "id": "d4e68051-02c2-4ff6-93ba-1f74156fcf2f",
   "metadata": {},
   "outputs": [],
   "source": [
    "df = pd.read_csv(\"plant_recommendation_dataset.csv\")"
   ]
  },
  {
   "cell_type": "code",
   "execution_count": 9,
   "id": "4b510de9-8f72-455e-b576-0627389bcc5f",
   "metadata": {},
   "outputs": [
    {
     "data": {
      "text/html": [
       "<div>\n",
       "<style scoped>\n",
       "    .dataframe tbody tr th:only-of-type {\n",
       "        vertical-align: middle;\n",
       "    }\n",
       "\n",
       "    .dataframe tbody tr th {\n",
       "        vertical-align: top;\n",
       "    }\n",
       "\n",
       "    .dataframe thead th {\n",
       "        text-align: right;\n",
       "    }\n",
       "</style>\n",
       "<table border=\"1\" class=\"dataframe\">\n",
       "  <thead>\n",
       "    <tr style=\"text-align: right;\">\n",
       "      <th></th>\n",
       "      <th>Common Name</th>\n",
       "      <th>Scientific Name</th>\n",
       "      <th>Growth Type</th>\n",
       "      <th>Edible</th>\n",
       "      <th>Medicinal Use</th>\n",
       "      <th>Optimal Temperature (°C)</th>\n",
       "      <th>Humidity Preference (%)</th>\n",
       "      <th>Sunlight Requirement</th>\n",
       "      <th>Climate Suitability</th>\n",
       "      <th>Preferred Soil Type</th>\n",
       "      <th>...</th>\n",
       "      <th>Companion Planting Suitability</th>\n",
       "      <th>Pruning Requirement</th>\n",
       "      <th>Common Pests</th>\n",
       "      <th>Disease Resistance</th>\n",
       "      <th>Nitrogen Need</th>\n",
       "      <th>Phosphorus Need</th>\n",
       "      <th>Potassium Need</th>\n",
       "      <th>Recommended Organic Fertilizers</th>\n",
       "      <th>Suitable for Region</th>\n",
       "      <th>Suitable for Season</th>\n",
       "    </tr>\n",
       "  </thead>\n",
       "  <tbody>\n",
       "    <tr>\n",
       "      <th>0</th>\n",
       "      <td>Mint</td>\n",
       "      <td>Mentha</td>\n",
       "      <td>Herb</td>\n",
       "      <td>Yes</td>\n",
       "      <td>Yes</td>\n",
       "      <td>23</td>\n",
       "      <td>81</td>\n",
       "      <td>Partial Shade</td>\n",
       "      <td>Temperate</td>\n",
       "      <td>Sandy</td>\n",
       "      <td>...</td>\n",
       "      <td>Bad</td>\n",
       "      <td>No</td>\n",
       "      <td>Bacterial</td>\n",
       "      <td>NaN</td>\n",
       "      <td>Medium</td>\n",
       "      <td>Medium</td>\n",
       "      <td>High</td>\n",
       "      <td>Compost</td>\n",
       "      <td>Bangalore</td>\n",
       "      <td>Monsoon</td>\n",
       "    </tr>\n",
       "    <tr>\n",
       "      <th>1</th>\n",
       "      <td>Carrot</td>\n",
       "      <td>Daucus carota</td>\n",
       "      <td>Herb</td>\n",
       "      <td>Yes</td>\n",
       "      <td>No</td>\n",
       "      <td>15</td>\n",
       "      <td>53</td>\n",
       "      <td>Partial Shade</td>\n",
       "      <td>Arid</td>\n",
       "      <td>Sandy</td>\n",
       "      <td>...</td>\n",
       "      <td>Good</td>\n",
       "      <td>No</td>\n",
       "      <td>Caterpillars</td>\n",
       "      <td>Viral</td>\n",
       "      <td>Medium</td>\n",
       "      <td>Low</td>\n",
       "      <td>Medium</td>\n",
       "      <td>Vermicompost</td>\n",
       "      <td>Chennai</td>\n",
       "      <td>Monsoon</td>\n",
       "    </tr>\n",
       "    <tr>\n",
       "      <th>2</th>\n",
       "      <td>Coriander</td>\n",
       "      <td>Coriandrum sativum</td>\n",
       "      <td>Herb</td>\n",
       "      <td>Yes</td>\n",
       "      <td>Yes</td>\n",
       "      <td>15</td>\n",
       "      <td>65</td>\n",
       "      <td>Shade</td>\n",
       "      <td>Subtropical</td>\n",
       "      <td>Silt</td>\n",
       "      <td>...</td>\n",
       "      <td>Good</td>\n",
       "      <td>Yes</td>\n",
       "      <td>Caterpillars</td>\n",
       "      <td>NaN</td>\n",
       "      <td>Low</td>\n",
       "      <td>High</td>\n",
       "      <td>High</td>\n",
       "      <td>Compost</td>\n",
       "      <td>Delhi</td>\n",
       "      <td>Summer</td>\n",
       "    </tr>\n",
       "    <tr>\n",
       "      <th>3</th>\n",
       "      <td>Coriander</td>\n",
       "      <td>Coriandrum sativum</td>\n",
       "      <td>Herb</td>\n",
       "      <td>Yes</td>\n",
       "      <td>Yes</td>\n",
       "      <td>31</td>\n",
       "      <td>47</td>\n",
       "      <td>Full Sun</td>\n",
       "      <td>Tropical</td>\n",
       "      <td>Peaty</td>\n",
       "      <td>...</td>\n",
       "      <td>Bad</td>\n",
       "      <td>No</td>\n",
       "      <td>Bacterial</td>\n",
       "      <td>Bacterial</td>\n",
       "      <td>High</td>\n",
       "      <td>Low</td>\n",
       "      <td>Medium</td>\n",
       "      <td>Compost</td>\n",
       "      <td>Hyderabad</td>\n",
       "      <td>Winter</td>\n",
       "    </tr>\n",
       "    <tr>\n",
       "      <th>4</th>\n",
       "      <td>Radish</td>\n",
       "      <td>Raphanus sativus</td>\n",
       "      <td>Herb</td>\n",
       "      <td>Yes</td>\n",
       "      <td>No</td>\n",
       "      <td>26</td>\n",
       "      <td>60</td>\n",
       "      <td>Shade</td>\n",
       "      <td>Arid</td>\n",
       "      <td>Loam</td>\n",
       "      <td>...</td>\n",
       "      <td>Good</td>\n",
       "      <td>No</td>\n",
       "      <td>Bacterial</td>\n",
       "      <td>Fungal</td>\n",
       "      <td>Medium</td>\n",
       "      <td>High</td>\n",
       "      <td>Low</td>\n",
       "      <td>Compost</td>\n",
       "      <td>Delhi</td>\n",
       "      <td>Winter</td>\n",
       "    </tr>\n",
       "  </tbody>\n",
       "</table>\n",
       "<p>5 rows × 25 columns</p>\n",
       "</div>"
      ],
      "text/plain": [
       "  Common Name     Scientific Name Growth Type Edible Medicinal Use  \\\n",
       "0        Mint              Mentha        Herb    Yes           Yes   \n",
       "1      Carrot       Daucus carota        Herb    Yes            No   \n",
       "2   Coriander  Coriandrum sativum        Herb    Yes           Yes   \n",
       "3   Coriander  Coriandrum sativum        Herb    Yes           Yes   \n",
       "4      Radish    Raphanus sativus        Herb    Yes            No   \n",
       "\n",
       "   Optimal Temperature (°C)  Humidity Preference (%) Sunlight Requirement  \\\n",
       "0                        23                       81        Partial Shade   \n",
       "1                        15                       53        Partial Shade   \n",
       "2                        15                       65                Shade   \n",
       "3                        31                       47             Full Sun   \n",
       "4                        26                       60                Shade   \n",
       "\n",
       "  Climate Suitability Preferred Soil Type  ...  \\\n",
       "0           Temperate               Sandy  ...   \n",
       "1                Arid               Sandy  ...   \n",
       "2         Subtropical                Silt  ...   \n",
       "3            Tropical               Peaty  ...   \n",
       "4                Arid                Loam  ...   \n",
       "\n",
       "   Companion Planting Suitability Pruning Requirement  Common Pests  \\\n",
       "0                             Bad                  No     Bacterial   \n",
       "1                            Good                  No  Caterpillars   \n",
       "2                            Good                 Yes  Caterpillars   \n",
       "3                             Bad                  No     Bacterial   \n",
       "4                            Good                  No     Bacterial   \n",
       "\n",
       "   Disease Resistance  Nitrogen Need Phosphorus Need Potassium Need  \\\n",
       "0                 NaN         Medium          Medium           High   \n",
       "1               Viral         Medium             Low         Medium   \n",
       "2                 NaN            Low            High           High   \n",
       "3           Bacterial           High             Low         Medium   \n",
       "4              Fungal         Medium            High            Low   \n",
       "\n",
       "  Recommended Organic Fertilizers Suitable for Region Suitable for Season  \n",
       "0                         Compost           Bangalore             Monsoon  \n",
       "1                    Vermicompost             Chennai             Monsoon  \n",
       "2                         Compost               Delhi              Summer  \n",
       "3                         Compost           Hyderabad              Winter  \n",
       "4                         Compost               Delhi              Winter  \n",
       "\n",
       "[5 rows x 25 columns]"
      ]
     },
     "execution_count": 9,
     "metadata": {},
     "output_type": "execute_result"
    }
   ],
   "source": [
    "df.head()"
   ]
  },
  {
   "cell_type": "code",
   "execution_count": 11,
   "id": "fd074887-8e80-4c79-8023-02318577ed09",
   "metadata": {},
   "outputs": [
    {
     "name": "stdout",
     "output_type": "stream",
     "text": [
      "All Features: ['Common Name', 'Scientific Name', 'Growth Type', 'Medicinal Use', 'Optimal Temperature (°C)', 'Humidity Preference (%)', 'Preferred Soil Type', 'Soil pH Range', 'Germination Time (Days)', 'Time to Harvest (Days)', 'Common Pests', 'Nitrogen Need', 'Phosphorus Need', 'Potassium Need', 'Suitable for Region', 'Suitable for Season']\n",
      "Common Name                  object\n",
      "Scientific Name               int32\n",
      "Growth Type                   int32\n",
      "Medicinal Use                 int32\n",
      "Optimal Temperature (°C)      int64\n",
      "Humidity Preference (%)       int64\n",
      "Preferred Soil Type           int32\n",
      "Soil pH Range               float64\n",
      "Germination Time (Days)       int64\n",
      "Time to Harvest (Days)        int64\n",
      "Common Pests                  int32\n",
      "Nitrogen Need                 int32\n",
      "Phosphorus Need               int32\n",
      "Potassium Need                int32\n",
      "Suitable for Region           int32\n",
      "Suitable for Season           int32\n",
      "dtype: object\n"
     ]
    }
   ],
   "source": [
    "# Remove 'Disease Resistance' and 'Pruning Requirement' while keeping all other features\n",
    "all_features = [col for col in df.columns if col not in ['Disease Resistance', 'Pruning Requirement','Companion Planting Suitability', 'Water Requirement', 'Irrigation Frequency','Recommended Organic Fertilizers','Climate Suitability','Sunlight Requirement','Edible' ]]\n",
    "\n",
    "# Keep only selected features\n",
    "df = df[all_features]\n",
    "\n",
    "# Identify non-numeric columns except 'Common Name'\n",
    "non_numeric_columns = df.select_dtypes(exclude=['int64', 'float64']).columns\n",
    "non_numeric_columns = [col for col in non_numeric_columns if col != 'Common Name']\n",
    "\n",
    "# Apply Label Encoding only to categorical columns (excluding 'Common Name')\n",
    "label_encoders = {}\n",
    "for col in non_numeric_columns:\n",
    "    le = LabelEncoder()\n",
    "    df[col] = le.fit_transform(df[col])\n",
    "    label_encoders[col] = le  # Store encoder for future use\n",
    "\n",
    "# Ensure 'Common Name' remains a string\n",
    "df['Common Name'] = df['Common Name'].astype(str)\n",
    "\n",
    "# Print updated features\n",
    "print(\"All Features:\", all_features)\n",
    "print(df.dtypes)"
   ]
  },
  {
   "cell_type": "code",
   "execution_count": 13,
   "id": "f32560f7-652e-461f-aad5-dee84173d8fb",
   "metadata": {},
   "outputs": [
    {
     "data": {
      "text/plain": [
       "Common Name\n",
       "Coriander    50\n",
       "Tomato       49\n",
       "Mint         48\n",
       "Carrot       47\n",
       "Basil        47\n",
       "Spinach      44\n",
       "Pumpkin      43\n",
       "Lettuce      43\n",
       "Chili        40\n",
       "Radish       39\n",
       "Name: count, dtype: int64"
      ]
     },
     "execution_count": 13,
     "metadata": {},
     "output_type": "execute_result"
    }
   ],
   "source": [
    "df['Common Name'].value_counts()\n"
   ]
  },
  {
   "cell_type": "code",
   "execution_count": 15,
   "id": "adbced51-b007-4e1a-8897-19e9f3ffd1d8",
   "metadata": {},
   "outputs": [
    {
     "data": {
      "text/plain": [
       "10"
      ]
     },
     "execution_count": 15,
     "metadata": {},
     "output_type": "execute_result"
    }
   ],
   "source": [
    "df['Common Name'].unique().size"
   ]
  },
  {
   "cell_type": "code",
   "execution_count": 17,
   "id": "b7cce4c0-74e7-41ae-b624-d5d74878e8e8",
   "metadata": {},
   "outputs": [
    {
     "data": {
      "text/plain": [
       "array(['Mint', 'Carrot', 'Coriander', 'Radish', 'Spinach', 'Pumpkin',\n",
       "       'Chili', 'Tomato', 'Lettuce', 'Basil'], dtype=object)"
      ]
     },
     "execution_count": 17,
     "metadata": {},
     "output_type": "execute_result"
    }
   ],
   "source": [
    "df['Common Name'].unique()"
   ]
  },
  {
   "cell_type": "code",
   "execution_count": 19,
   "id": "f05e2ca0-f73b-42bd-ad13-c538b1029411",
   "metadata": {},
   "outputs": [
    {
     "name": "stdout",
     "output_type": "stream",
     "text": [
      "{'Mint': 1, 'Carrot': 2, 'Coriander': 3, 'Radish': 4, 'Spinach': 5, 'Pumpkin': 6, 'Chili': 7, 'Tomato': 8, 'Lettuce': 9, 'Basil': 10}\n",
      "   Common Name  Scientific Name  Growth Type  Medicinal Use  \\\n",
      "0            1                5            0              1   \n",
      "1            2                3            0              0   \n",
      "2            3                1            0              1   \n",
      "3            3                1            0              1   \n",
      "4            4                7            0              0   \n",
      "\n",
      "   Optimal Temperature (°C)  Humidity Preference (%)  Preferred Soil Type  \\\n",
      "0                        23                       81                    3   \n",
      "1                        15                       53                    3   \n",
      "2                        15                       65                    4   \n",
      "3                        31                       47                    2   \n",
      "4                        26                       60                    1   \n",
      "\n",
      "   Soil pH Range  Germination Time (Days)  Time to Harvest (Days)  \\\n",
      "0            6.1                       20                      63   \n",
      "1            5.5                       20                     104   \n",
      "2            7.4                        6                      41   \n",
      "3            5.7                        6                      45   \n",
      "4            6.8                       11                     118   \n",
      "\n",
      "   Common Pests  Nitrogen Need  Phosphorus Need  Potassium Need  \\\n",
      "0             1              2                2               0   \n",
      "1             2              2                1               2   \n",
      "2             2              1                0               0   \n",
      "3             1              0                1               2   \n",
      "4             1              2                0               1   \n",
      "\n",
      "   Suitable for Region  Suitable for Season  \n",
      "0                    0                    0  \n",
      "1                    1                    0  \n",
      "2                    2                    1  \n",
      "3                    3                    2  \n",
      "4                    2                    2  \n"
     ]
    }
   ],
   "source": [
    "# Generate a unique mapping for Common Name\n",
    "common_name_dict = {name: idx for idx, name in enumerate(df['Common Name'].unique(), start=1)}\n",
    "\n",
    "# Apply the mapping\n",
    "df['Common Name'] = df['Common Name'].map(common_name_dict)\n",
    "\n",
    "# Verify the changes\n",
    "print(common_name_dict)  # Print the dictionary mapping\n",
    "print(df.head())  # Check if Common Name is now numerical\n"
   ]
  },
  {
   "cell_type": "code",
   "execution_count": 21,
   "id": "b1d53057-ed73-4b2b-bd09-3e924ddfdf1a",
   "metadata": {},
   "outputs": [],
   "source": [
    "X=df.drop('Common Name', axis = 1)\n",
    "y=df['Common Name']"
   ]
  },
  {
   "cell_type": "code",
   "execution_count": 23,
   "id": "873747da-9794-4f7e-85e0-5342a10fc7c5",
   "metadata": {},
   "outputs": [
    {
     "data": {
      "text/html": [
       "<div>\n",
       "<style scoped>\n",
       "    .dataframe tbody tr th:only-of-type {\n",
       "        vertical-align: middle;\n",
       "    }\n",
       "\n",
       "    .dataframe tbody tr th {\n",
       "        vertical-align: top;\n",
       "    }\n",
       "\n",
       "    .dataframe thead th {\n",
       "        text-align: right;\n",
       "    }\n",
       "</style>\n",
       "<table border=\"1\" class=\"dataframe\">\n",
       "  <thead>\n",
       "    <tr style=\"text-align: right;\">\n",
       "      <th></th>\n",
       "      <th>Scientific Name</th>\n",
       "      <th>Growth Type</th>\n",
       "      <th>Medicinal Use</th>\n",
       "      <th>Optimal Temperature (°C)</th>\n",
       "      <th>Humidity Preference (%)</th>\n",
       "      <th>Preferred Soil Type</th>\n",
       "      <th>Soil pH Range</th>\n",
       "      <th>Germination Time (Days)</th>\n",
       "      <th>Time to Harvest (Days)</th>\n",
       "      <th>Common Pests</th>\n",
       "      <th>Nitrogen Need</th>\n",
       "      <th>Phosphorus Need</th>\n",
       "      <th>Potassium Need</th>\n",
       "      <th>Suitable for Region</th>\n",
       "      <th>Suitable for Season</th>\n",
       "    </tr>\n",
       "  </thead>\n",
       "  <tbody>\n",
       "    <tr>\n",
       "      <th>0</th>\n",
       "      <td>5</td>\n",
       "      <td>0</td>\n",
       "      <td>1</td>\n",
       "      <td>23</td>\n",
       "      <td>81</td>\n",
       "      <td>3</td>\n",
       "      <td>6.1</td>\n",
       "      <td>20</td>\n",
       "      <td>63</td>\n",
       "      <td>1</td>\n",
       "      <td>2</td>\n",
       "      <td>2</td>\n",
       "      <td>0</td>\n",
       "      <td>0</td>\n",
       "      <td>0</td>\n",
       "    </tr>\n",
       "    <tr>\n",
       "      <th>1</th>\n",
       "      <td>3</td>\n",
       "      <td>0</td>\n",
       "      <td>0</td>\n",
       "      <td>15</td>\n",
       "      <td>53</td>\n",
       "      <td>3</td>\n",
       "      <td>5.5</td>\n",
       "      <td>20</td>\n",
       "      <td>104</td>\n",
       "      <td>2</td>\n",
       "      <td>2</td>\n",
       "      <td>1</td>\n",
       "      <td>2</td>\n",
       "      <td>1</td>\n",
       "      <td>0</td>\n",
       "    </tr>\n",
       "    <tr>\n",
       "      <th>2</th>\n",
       "      <td>1</td>\n",
       "      <td>0</td>\n",
       "      <td>1</td>\n",
       "      <td>15</td>\n",
       "      <td>65</td>\n",
       "      <td>4</td>\n",
       "      <td>7.4</td>\n",
       "      <td>6</td>\n",
       "      <td>41</td>\n",
       "      <td>2</td>\n",
       "      <td>1</td>\n",
       "      <td>0</td>\n",
       "      <td>0</td>\n",
       "      <td>2</td>\n",
       "      <td>1</td>\n",
       "    </tr>\n",
       "    <tr>\n",
       "      <th>3</th>\n",
       "      <td>1</td>\n",
       "      <td>0</td>\n",
       "      <td>1</td>\n",
       "      <td>31</td>\n",
       "      <td>47</td>\n",
       "      <td>2</td>\n",
       "      <td>5.7</td>\n",
       "      <td>6</td>\n",
       "      <td>45</td>\n",
       "      <td>1</td>\n",
       "      <td>0</td>\n",
       "      <td>1</td>\n",
       "      <td>2</td>\n",
       "      <td>3</td>\n",
       "      <td>2</td>\n",
       "    </tr>\n",
       "    <tr>\n",
       "      <th>4</th>\n",
       "      <td>7</td>\n",
       "      <td>0</td>\n",
       "      <td>0</td>\n",
       "      <td>26</td>\n",
       "      <td>60</td>\n",
       "      <td>1</td>\n",
       "      <td>6.8</td>\n",
       "      <td>11</td>\n",
       "      <td>118</td>\n",
       "      <td>1</td>\n",
       "      <td>2</td>\n",
       "      <td>0</td>\n",
       "      <td>1</td>\n",
       "      <td>2</td>\n",
       "      <td>2</td>\n",
       "    </tr>\n",
       "  </tbody>\n",
       "</table>\n",
       "</div>"
      ],
      "text/plain": [
       "   Scientific Name  Growth Type  Medicinal Use  Optimal Temperature (°C)  \\\n",
       "0                5            0              1                        23   \n",
       "1                3            0              0                        15   \n",
       "2                1            0              1                        15   \n",
       "3                1            0              1                        31   \n",
       "4                7            0              0                        26   \n",
       "\n",
       "   Humidity Preference (%)  Preferred Soil Type  Soil pH Range  \\\n",
       "0                       81                    3            6.1   \n",
       "1                       53                    3            5.5   \n",
       "2                       65                    4            7.4   \n",
       "3                       47                    2            5.7   \n",
       "4                       60                    1            6.8   \n",
       "\n",
       "   Germination Time (Days)  Time to Harvest (Days)  Common Pests  \\\n",
       "0                       20                      63             1   \n",
       "1                       20                     104             2   \n",
       "2                        6                      41             2   \n",
       "3                        6                      45             1   \n",
       "4                       11                     118             1   \n",
       "\n",
       "   Nitrogen Need  Phosphorus Need  Potassium Need  Suitable for Region  \\\n",
       "0              2                2               0                    0   \n",
       "1              2                1               2                    1   \n",
       "2              1                0               0                    2   \n",
       "3              0                1               2                    3   \n",
       "4              2                0               1                    2   \n",
       "\n",
       "   Suitable for Season  \n",
       "0                    0  \n",
       "1                    0  \n",
       "2                    1  \n",
       "3                    2  \n",
       "4                    2  "
      ]
     },
     "execution_count": 23,
     "metadata": {},
     "output_type": "execute_result"
    }
   ],
   "source": [
    "X.head()"
   ]
  },
  {
   "cell_type": "code",
   "execution_count": 25,
   "id": "c39ee2e3-9fc5-4ad2-9752-c3190fa2ffe3",
   "metadata": {},
   "outputs": [
    {
     "data": {
      "text/plain": [
       "0    1\n",
       "1    2\n",
       "2    3\n",
       "3    3\n",
       "4    4\n",
       "Name: Common Name, dtype: int64"
      ]
     },
     "execution_count": 25,
     "metadata": {},
     "output_type": "execute_result"
    }
   ],
   "source": [
    "y.head()"
   ]
  },
  {
   "cell_type": "code",
   "execution_count": 27,
   "id": "10ecae61-4037-46e8-9b79-2595e0be0d15",
   "metadata": {},
   "outputs": [],
   "source": [
    "from sklearn.model_selection import train_test_split\n",
    "X_train, X_test, y_train, y_test = train_test_split(X, y, test_size = 0.2, random_state=42)"
   ]
  },
  {
   "cell_type": "code",
   "execution_count": 29,
   "id": "f75aa17a-653c-4d5b-9483-19caaeff7718",
   "metadata": {},
   "outputs": [],
   "source": [
    "from sklearn.preprocessing import MinMaxScaler\n",
    "mx = MinMaxScaler()\n",
    "X_train = mx.fit_transform(X_train)\n",
    "X_test = mx.transform(X_test)"
   ]
  },
  {
   "cell_type": "code",
   "execution_count": 31,
   "id": "16f6d70c-5c4a-438a-b615-f043443b3c73",
   "metadata": {},
   "outputs": [
    {
     "data": {
      "text/plain": [
       "array([[0.        , 0.5       , 0.        , ..., 0.        , 0.25      ,\n",
       "        0.        ],\n",
       "       [0.88888889, 0.        , 0.        , ..., 0.        , 0.5       ,\n",
       "        0.        ],\n",
       "       [0.33333333, 0.        , 0.        , ..., 0.5       , 0.        ,\n",
       "        0.5       ],\n",
       "       ...,\n",
       "       [0.88888889, 0.        , 0.        , ..., 0.5       , 0.5       ,\n",
       "        0.5       ],\n",
       "       [0.77777778, 0.        , 0.        , ..., 0.        , 1.        ,\n",
       "        0.        ],\n",
       "       [0.77777778, 0.        , 0.        , ..., 1.        , 0.        ,\n",
       "        0.5       ]])"
      ]
     },
     "execution_count": 31,
     "metadata": {},
     "output_type": "execute_result"
    }
   ],
   "source": [
    "X_train"
   ]
  },
  {
   "cell_type": "code",
   "execution_count": 33,
   "id": "8aada149-e8b1-4f65-8301-38fbf9bdf51b",
   "metadata": {},
   "outputs": [],
   "source": [
    "from sklearn.preprocessing import StandardScaler\n",
    "sc = StandardScaler()\n",
    "sc.fit(X_train)\n",
    "X_train = sc.transform(X_train)\n",
    "X_test=sc.transform(X_test)"
   ]
  },
  {
   "cell_type": "code",
   "execution_count": 35,
   "id": "0992b386-34e7-40bd-94f0-83eafb04c09b",
   "metadata": {},
   "outputs": [],
   "source": [
    "from sklearn.linear_model import LogisticRegression\n",
    "from sklearn.naive_bayes import GaussianNB\n",
    "from sklearn.svm import SVC\n",
    "from sklearn.neighbors import KNeighborsClassifier\n",
    "from sklearn.tree import DecisionTreeClassifier, ExtraTreeClassifier\n",
    "from sklearn.ensemble import RandomForestClassifier, BaggingClassifier, GradientBoostingClassifier, AdaBoostClassifier\n",
    "from sklearn.metrics import accuracy_score\n",
    "from xgboost import XGBClassifier"
   ]
  },
  {
   "cell_type": "code",
   "execution_count": 37,
   "id": "96f4d305-af06-498e-b39a-69be7b09d28b",
   "metadata": {},
   "outputs": [],
   "source": [
    "models = {\n",
    "    'LogisticRegression': LogisticRegression(),\n",
    "    'SVC':SVC(),\n",
    "    'KNeighborsClassifier':KNeighborsClassifier(),\n",
    "    'ExtraTreeClassifier':ExtraTreeClassifier(),\n",
    "    'RandomForestClassifier':RandomForestClassifier(),\n",
    "    'AdaBoostClassifier':AdaBoostClassifier()\n",
    "}"
   ]
  },
  {
   "cell_type": "code",
   "execution_count": 39,
   "id": "dd4ec7f9-e5cf-4556-ac03-269059bf622f",
   "metadata": {},
   "outputs": [
    {
     "name": "stdout",
     "output_type": "stream",
     "text": [
      "LogisticRegression model with accuracy: 0.8333333333333334\n",
      "SVC model with accuracy: 0.7222222222222222\n",
      "KNeighborsClassifier model with accuracy: 0.4666666666666667\n",
      "ExtraTreeClassifier model with accuracy: 0.6777777777777778\n",
      "RandomForestClassifier model with accuracy: 0.9888888888888889\n",
      "AdaBoostClassifier model with accuracy: 0.5111111111111111\n"
     ]
    },
    {
     "name": "stderr",
     "output_type": "stream",
     "text": [
      "C:\\Users\\prath\\anaconda3\\Lib\\site-packages\\sklearn\\ensemble\\_weight_boosting.py:527: FutureWarning: The SAMME.R algorithm (the default) is deprecated and will be removed in 1.6. Use the SAMME algorithm to circumvent this warning.\n",
      "  warnings.warn(\n"
     ]
    }
   ],
   "source": [
    "for name, model in models.items():\n",
    "    model.fit(X_train, y_train)\n",
    "    y_pred = model.predict(X_test)\n",
    "    score = accuracy_score(y_test, y_pred)\n",
    "    print(f\"{name} model with accuracy: {score}\")"
   ]
  },
  {
   "cell_type": "code",
   "execution_count": 3,
   "id": "2f8c2995-85c4-4dfe-85f5-019c668ee249",
   "metadata": {},
   "outputs": [
    {
     "name": "stdout",
     "output_type": "stream",
     "text": [
      "RandomForest Accuracy: 0.9777777777777777\n",
      "\n",
      "Enter the feature values for plant recommendation (based on dataset columns):\n",
      "Possible values for Scientific Name: [5 3 1 7 9 2 0 8 4 6]\n"
     ]
    },
    {
     "name": "stdin",
     "output_type": "stream",
     "text": [
      "Enter Scientific Name:  1\n"
     ]
    },
    {
     "name": "stdout",
     "output_type": "stream",
     "text": [
      "Possible values for Growth Type: [0 2 1]\n"
     ]
    },
    {
     "name": "stdin",
     "output_type": "stream",
     "text": [
      "Enter Growth Type:  0\n"
     ]
    },
    {
     "name": "stdout",
     "output_type": "stream",
     "text": [
      "Possible values for Medicinal Use: [1 0]\n"
     ]
    },
    {
     "name": "stdin",
     "output_type": "stream",
     "text": [
      "Enter Medicinal Use:  1\n"
     ]
    },
    {
     "name": "stdout",
     "output_type": "stream",
     "text": [
      "Possible values for Optimal Temperature (°C): [23 15 31 26 18 17 28 27 22 29 21 32 34 35 16 20 30 19 33 24 25]\n"
     ]
    },
    {
     "name": "stdin",
     "output_type": "stream",
     "text": [
      "Enter Optimal Temperature (°C):  15\n"
     ]
    },
    {
     "name": "stdout",
     "output_type": "stream",
     "text": [
      "Possible values for Humidity Preference (%): [81 53 65 47 60 76 51 79 87 84 63 82 74 42 80 49 44 69 45 54 83 57 88 72\n",
      " 86 43 77 70 46 58 85 62 78 61 73 89 71 52 40 75 68 56 41 50 48 90 64 66\n",
      " 67 59 55]\n"
     ]
    },
    {
     "name": "stdin",
     "output_type": "stream",
     "text": [
      "Enter Humidity Preference (%):  40\n"
     ]
    },
    {
     "name": "stdout",
     "output_type": "stream",
     "text": [
      "Possible values for Preferred Soil Type: [3 4 2 1 0]\n"
     ]
    },
    {
     "name": "stdin",
     "output_type": "stream",
     "text": [
      "Enter Preferred Soil Type:  2\n"
     ]
    },
    {
     "name": "stdout",
     "output_type": "stream",
     "text": [
      "Possible values for Soil pH Range: [6.1 5.5 7.4 5.7 6.8 6.  5.9 7.3 6.2 6.9 7.2 7.  6.5 5.6 6.6 7.1 7.5 5.8\n",
      " 6.7 6.3 6.4]\n"
     ]
    },
    {
     "name": "stdin",
     "output_type": "stream",
     "text": [
      "Enter Soil pH Range:  5.5\n"
     ]
    },
    {
     "name": "stdout",
     "output_type": "stream",
     "text": [
      "Possible values for Germination Time (Days): [20  6 11 14  8 10  5 13 19 15 12  7 18 16 17  9]\n"
     ]
    },
    {
     "name": "stdin",
     "output_type": "stream",
     "text": [
      "Enter Germination Time (Days):  11\n"
     ]
    },
    {
     "name": "stdout",
     "output_type": "stream",
     "text": [
      "Possible values for Time to Harvest (Days): [ 63 104  41  45 118  56  82  61  99 117  51 116  75  31  70  48  84  38\n",
      " 105 119  46  40  67  81  80  95  88  57  94  72 103 120 106  73  93  83\n",
      "  54  34  98 109  32  97  62  39  53 102 114  77  78  44 100  33  74 110\n",
      "  96  43  49  79  52  55 107  87 101  89  69  37 111  36  42 112 115  68\n",
      "  86  90  30 113  60  91  85  47  66  59  76  35  92  65  64  50  58  71]\n"
     ]
    },
    {
     "name": "stdin",
     "output_type": "stream",
     "text": [
      "Enter Time to Harvest (Days):  41\n"
     ]
    },
    {
     "name": "stdout",
     "output_type": "stream",
     "text": [
      "Possible values for Common Pests: [1 2 4 3 0]\n"
     ]
    },
    {
     "name": "stdin",
     "output_type": "stream",
     "text": [
      "Enter Common Pests:  1\n"
     ]
    },
    {
     "name": "stdout",
     "output_type": "stream",
     "text": [
      "Possible values for Nitrogen Need: [2 1 0]\n"
     ]
    },
    {
     "name": "stdin",
     "output_type": "stream",
     "text": [
      "Enter Nitrogen Need:  2\n"
     ]
    },
    {
     "name": "stdout",
     "output_type": "stream",
     "text": [
      "Possible values for Phosphorus Need: [2 1 0]\n"
     ]
    },
    {
     "name": "stdin",
     "output_type": "stream",
     "text": [
      "Enter Phosphorus Need:  2\n"
     ]
    },
    {
     "name": "stdout",
     "output_type": "stream",
     "text": [
      "Possible values for Potassium Need: [0 2 1]\n"
     ]
    },
    {
     "name": "stdin",
     "output_type": "stream",
     "text": [
      "Enter Potassium Need:  2\n"
     ]
    },
    {
     "name": "stdout",
     "output_type": "stream",
     "text": [
      "Possible values for Suitable for Region: [0 1 2 3 4]\n"
     ]
    },
    {
     "name": "stdin",
     "output_type": "stream",
     "text": [
      "Enter Suitable for Region:  2\n"
     ]
    },
    {
     "name": "stdout",
     "output_type": "stream",
     "text": [
      "Possible values for Suitable for Season: [0 1 2]\n"
     ]
    },
    {
     "name": "stdin",
     "output_type": "stream",
     "text": [
      "Enter Suitable for Season:  2\n"
     ]
    },
    {
     "name": "stdout",
     "output_type": "stream",
     "text": [
      "\n",
      "Recommended Plant: Coriander\n"
     ]
    }
   ],
   "source": [
    "import pandas as pd\n",
    "import numpy as np\n",
    "from sklearn.model_selection import train_test_split\n",
    "from sklearn.preprocessing import MinMaxScaler, StandardScaler, LabelEncoder\n",
    "from sklearn.ensemble import RandomForestClassifier\n",
    "from sklearn.metrics import accuracy_score\n",
    "\n",
    "# Load dataset\n",
    "df = pd.read_csv(\"plant_recommendation_dataset.csv\")\n",
    "\n",
    "# Feature selection\n",
    "all_features = [col for col in df.columns if col not in ['Disease Resistance', 'Pruning Requirement','Companion Planting Suitability', 'Water Requirement', 'Irrigation Frequency','Recommended Organic Fertilizers','Climate Suitability','Sunlight Requirement','Edible' ]]\n",
    "df = df[all_features]\n",
    "\n",
    "# Label encoding\n",
    "non_numeric_columns = df.select_dtypes(exclude=['int64', 'float64']).columns\n",
    "non_numeric_columns = [col for col in non_numeric_columns if col != 'Common Name']\n",
    "label_encoders = {}\n",
    "for col in non_numeric_columns:\n",
    "    le = LabelEncoder()\n",
    "    df[col] = le.fit_transform(df[col])\n",
    "    label_encoders[col] = le\n",
    "\n",
    "# Map 'Common Name' to unique IDs\n",
    "common_name_dict = {name: idx for idx, name in enumerate(df['Common Name'].unique(), start=1)}\n",
    "df['Common Name'] = df['Common Name'].map(common_name_dict)\n",
    "\n",
    "# Split dataset\n",
    "X = df.drop('Common Name', axis=1)\n",
    "y = df['Common Name']\n",
    "X_train, X_test, y_train, y_test = train_test_split(X, y, test_size=0.2, random_state=42)\n",
    "\n",
    "# Scaling\n",
    "mx = MinMaxScaler()\n",
    "X_train = mx.fit_transform(X_train)\n",
    "X_test = mx.transform(X_test)\n",
    "sc = StandardScaler()\n",
    "X_train = sc.fit_transform(X_train)\n",
    "X_test = sc.transform(X_test)\n",
    "\n",
    "# Train RandomForest model\n",
    "rf_model = RandomForestClassifier(random_state=42)\n",
    "rf_model.fit(X_train, y_train)\n",
    "y_pred = rf_model.predict(X_test)\n",
    "print(\"RandomForest Accuracy:\", accuracy_score(y_test, y_pred))\n",
    "\n",
    "# Prediction function\n",
    "def predict_plant(features):\n",
    "    input_df = pd.DataFrame([features], columns=X.columns)\n",
    "    input_df = mx.transform(input_df)\n",
    "    input_df = sc.transform(input_df)\n",
    "    prediction = rf_model.predict(input_df)\n",
    "    common_name = [name for name, idx in common_name_dict.items() if idx == prediction[0]]\n",
    "    return common_name[0] if common_name else \"Unknown\"\n",
    "\n",
    "# User input based on dataset values\n",
    "print(\"\\nEnter the feature values for plant recommendation (based on dataset columns):\")\n",
    "user_input = {}\n",
    "for feature in X.columns:\n",
    "    unique_values = df[feature].unique()\n",
    "    print(f\"Possible values for {feature}: {unique_values}\")\n",
    "    value = float(input(f\"Enter {feature}: \"))\n",
    "    user_input[feature] = value\n",
    "\n",
    "# Predict and display result\n",
    "prediction = predict_plant(list(user_input.values()))\n",
    "print(f\"\\nRecommended Plant: {prediction}\")\n"
   ]
  },
  {
   "cell_type": "code",
   "execution_count": null,
   "id": "92333735-46be-4311-9906-9a9dfb153bff",
   "metadata": {},
   "outputs": [],
   "source": []
  }
 ],
 "metadata": {
  "kernelspec": {
   "display_name": "Python 3 (ipykernel)",
   "language": "python",
   "name": "python3"
  },
  "language_info": {
   "codemirror_mode": {
    "name": "ipython",
    "version": 3
   },
   "file_extension": ".py",
   "mimetype": "text/x-python",
   "name": "python",
   "nbconvert_exporter": "python",
   "pygments_lexer": "ipython3",
   "version": "3.12.7"
  }
 },
 "nbformat": 4,
 "nbformat_minor": 5
}
